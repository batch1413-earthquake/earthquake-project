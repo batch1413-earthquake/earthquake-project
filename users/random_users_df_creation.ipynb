{
 "cells": [
  {
   "cell_type": "code",
   "execution_count": 13,
   "metadata": {},
   "outputs": [],
   "source": [
    "import random\n",
    "import uuid\n",
    "\n",
    "import numpy as np\n",
    "import pandas as pd\n",
    "import geopandas as gpd\n",
    "from shapely.geometry import Point, Polygon\n"
   ]
  },
  {
   "cell_type": "code",
   "execution_count": 6,
   "metadata": {},
   "outputs": [],
   "source": [
    "def generate_random_point_in_polygon(polygon):\n",
    "    \"\"\"\n",
    "    Generates a random latitude and longitude within a given polygon.\n",
    "    Parameters:\n",
    "    polygon (Polygon): The input polygon within which to generate the point.\n",
    "    Returns:\n",
    "    (float, float): A tuple of latitude and longitude of the random point within the polygon.\n",
    "    \"\"\"\n",
    "    min_x, min_y, max_x, max_y = polygon.bounds\n",
    "    while True:\n",
    "        random_point = Point([np.random.uniform(min_x, max_x), np.random.uniform(min_y, max_y)])\n",
    "        if polygon.contains(random_point):\n",
    "            return random_point.y, random_point.x\n"
   ]
  },
  {
   "cell_type": "code",
   "execution_count": 9,
   "metadata": {},
   "outputs": [],
   "source": [
    "countries = gpd.read_file(file)\n",
    "file = \"/home/jalandet504/code/jalandet/lewagon-earthquake/earthquake-project/users/referential_countries.geojson\"\n",
    "users_per_country = 1\n"
   ]
  },
  {
   "cell_type": "code",
   "execution_count": 10,
   "metadata": {},
   "outputs": [],
   "source": [
    "geom = countries[:1][\"geometry\"]\n"
   ]
  },
  {
   "cell_type": "code",
   "execution_count": 11,
   "metadata": {},
   "outputs": [],
   "source": [
    "geom = countries[\"geometry\"][countries[\"ADMIN\"]==\"South Africa\"]\n"
   ]
  },
  {
   "cell_type": "code",
   "execution_count": 14,
   "metadata": {},
   "outputs": [
    {
     "ename": "ValueError",
     "evalue": "could not convert string to float: 'minx'",
     "output_type": "error",
     "traceback": [
      "\u001b[0;31m---------------------------------------------------------------------------\u001b[0m",
      "\u001b[0;31mValueError\u001b[0m                                Traceback (most recent call last)",
      "\u001b[1;32m/home/jalandet504/code/jalandet/lewagon-earthquake/earthquake-project/users/random_users_df_creation.ipynb Cell 6\u001b[0m line \u001b[0;36m1\n\u001b[0;32m----> <a href='vscode-notebook-cell://ssh-remote%2Bdata%20engineering%20bootcamp/home/jalandet504/code/jalandet/lewagon-earthquake/earthquake-project/users/random_users_df_creation.ipynb#X14sdnNjb2RlLXJlbW90ZQ%3D%3D?line=0'>1</a>\u001b[0m generate_random_point_in_polygon(geom)\n",
      "\u001b[1;32m/home/jalandet504/code/jalandet/lewagon-earthquake/earthquake-project/users/random_users_df_creation.ipynb Cell 6\u001b[0m line \u001b[0;36m1\n\u001b[1;32m      <a href='vscode-notebook-cell://ssh-remote%2Bdata%20engineering%20bootcamp/home/jalandet504/code/jalandet/lewagon-earthquake/earthquake-project/users/random_users_df_creation.ipynb#X14sdnNjb2RlLXJlbW90ZQ%3D%3D?line=8'>9</a>\u001b[0m min_x, min_y, max_x, max_y \u001b[39m=\u001b[39m polygon\u001b[39m.\u001b[39mbounds\n\u001b[1;32m     <a href='vscode-notebook-cell://ssh-remote%2Bdata%20engineering%20bootcamp/home/jalandet504/code/jalandet/lewagon-earthquake/earthquake-project/users/random_users_df_creation.ipynb#X14sdnNjb2RlLXJlbW90ZQ%3D%3D?line=9'>10</a>\u001b[0m \u001b[39mwhile\u001b[39;00m \u001b[39mTrue\u001b[39;00m:\n\u001b[0;32m---> <a href='vscode-notebook-cell://ssh-remote%2Bdata%20engineering%20bootcamp/home/jalandet504/code/jalandet/lewagon-earthquake/earthquake-project/users/random_users_df_creation.ipynb#X14sdnNjb2RlLXJlbW90ZQ%3D%3D?line=10'>11</a>\u001b[0m     random_point \u001b[39m=\u001b[39m Point([np\u001b[39m.\u001b[39;49mrandom\u001b[39m.\u001b[39;49muniform(min_x, max_x), np\u001b[39m.\u001b[39mrandom\u001b[39m.\u001b[39muniform(min_y, max_y)])\n\u001b[1;32m     <a href='vscode-notebook-cell://ssh-remote%2Bdata%20engineering%20bootcamp/home/jalandet504/code/jalandet/lewagon-earthquake/earthquake-project/users/random_users_df_creation.ipynb#X14sdnNjb2RlLXJlbW90ZQ%3D%3D?line=11'>12</a>\u001b[0m     \u001b[39mif\u001b[39;00m polygon\u001b[39m.\u001b[39mcontains(random_point):\n\u001b[1;32m     <a href='vscode-notebook-cell://ssh-remote%2Bdata%20engineering%20bootcamp/home/jalandet504/code/jalandet/lewagon-earthquake/earthquake-project/users/random_users_df_creation.ipynb#X14sdnNjb2RlLXJlbW90ZQ%3D%3D?line=12'>13</a>\u001b[0m         \u001b[39mreturn\u001b[39;00m random_point\u001b[39m.\u001b[39my, random_point\u001b[39m.\u001b[39mx\n",
      "File \u001b[0;32mmtrand.pyx:1131\u001b[0m, in \u001b[0;36mnumpy.random.mtrand.RandomState.uniform\u001b[0;34m()\u001b[0m\n",
      "\u001b[0;31mValueError\u001b[0m: could not convert string to float: 'minx'"
     ]
    }
   ],
   "source": [
    "generate_random_point_in_polygon(geom)\n"
   ]
  },
  {
   "cell_type": "code",
   "execution_count": 27,
   "metadata": {},
   "outputs": [],
   "source": [
    "file = \"/home/jalandet504/code/jalandet/lewagon-earthquake/earthquake-project/users/referential_countries.geojson\"\n",
    "users_per_country = 1\n",
    "countries = gpd.read_file(file)\n",
    "total_users = len(countries)*users_per_country\n",
    "\n",
    "users_list = []\n",
    "for x in range(len(countries)):\n",
    "    random_country = random.choice(countries[\"ADMIN\"])\n",
    "    random_country_geometry = countries[\"geometry\"][countries[\"ADMIN\"]==random_country]\n",
    "    print(random_country_geometry)\n",
    "    for y in range(users_per_country):\n",
    "        location = generate_random_point_in_polygon(random_country_geometry)\n",
    "        print(location)\n",
    "        users_list.append(\n",
    "            {\n",
    "                \"uuid\": uuid.uuid4(),\n",
    "                \"Country\": random_country,\n",
    "                \"user_location\": location\n",
    "            }\n",
    "        )\n",
    "\n",
    "df_users = pd.DataFrame(users_list)\n"
   ]
  },
  {
   "cell_type": "code",
   "execution_count": 28,
   "metadata": {},
   "outputs": [
    {
     "data": {
      "text/plain": [
       "170    POLYGON ((81.77902 30.35804, 81.80150 30.36130...\n",
       "Name: geometry, dtype: geometry"
      ]
     },
     "execution_count": 28,
     "metadata": {},
     "output_type": "execute_result"
    }
   ],
   "source": [
    "random_country_geometry\n"
   ]
  },
  {
   "cell_type": "code",
   "execution_count": 30,
   "metadata": {},
   "outputs": [
    {
     "ename": "ValueError",
     "evalue": "could not convert string to float: 'minx'",
     "output_type": "error",
     "traceback": [
      "\u001b[0;31m---------------------------------------------------------------------------\u001b[0m",
      "\u001b[0;31mValueError\u001b[0m                                Traceback (most recent call last)",
      "\u001b[1;32m/home/jalandet504/code/jalandet/lewagon-earthquake/earthquake-project/users/random_users_df_creation.ipynb Cell 7\u001b[0m line \u001b[0;36m1\n\u001b[0;32m----> <a href='vscode-notebook-cell://ssh-remote%2Bdata%20engineering%20bootcamp/home/jalandet504/code/jalandet/lewagon-earthquake/earthquake-project/users/random_users_df_creation.ipynb#X15sdnNjb2RlLXJlbW90ZQ%3D%3D?line=0'>1</a>\u001b[0m generate_random_point_in_polygon(random_country_geometry)\n",
      "\u001b[1;32m/home/jalandet504/code/jalandet/lewagon-earthquake/earthquake-project/users/random_users_df_creation.ipynb Cell 7\u001b[0m line \u001b[0;36m1\n\u001b[1;32m      <a href='vscode-notebook-cell://ssh-remote%2Bdata%20engineering%20bootcamp/home/jalandet504/code/jalandet/lewagon-earthquake/earthquake-project/users/random_users_df_creation.ipynb#X15sdnNjb2RlLXJlbW90ZQ%3D%3D?line=8'>9</a>\u001b[0m min_x, min_y, max_x, max_y \u001b[39m=\u001b[39m polygon\u001b[39m.\u001b[39mbounds\n\u001b[1;32m     <a href='vscode-notebook-cell://ssh-remote%2Bdata%20engineering%20bootcamp/home/jalandet504/code/jalandet/lewagon-earthquake/earthquake-project/users/random_users_df_creation.ipynb#X15sdnNjb2RlLXJlbW90ZQ%3D%3D?line=9'>10</a>\u001b[0m \u001b[39mwhile\u001b[39;00m \u001b[39mTrue\u001b[39;00m:\n\u001b[0;32m---> <a href='vscode-notebook-cell://ssh-remote%2Bdata%20engineering%20bootcamp/home/jalandet504/code/jalandet/lewagon-earthquake/earthquake-project/users/random_users_df_creation.ipynb#X15sdnNjb2RlLXJlbW90ZQ%3D%3D?line=10'>11</a>\u001b[0m     random_point \u001b[39m=\u001b[39m Point([np\u001b[39m.\u001b[39;49mrandom\u001b[39m.\u001b[39;49muniform(min_x, max_x), np\u001b[39m.\u001b[39mrandom\u001b[39m.\u001b[39muniform(min_y, max_y)])\n\u001b[1;32m     <a href='vscode-notebook-cell://ssh-remote%2Bdata%20engineering%20bootcamp/home/jalandet504/code/jalandet/lewagon-earthquake/earthquake-project/users/random_users_df_creation.ipynb#X15sdnNjb2RlLXJlbW90ZQ%3D%3D?line=11'>12</a>\u001b[0m     \u001b[39mif\u001b[39;00m polygon\u001b[39m.\u001b[39mcontains(random_point):\n\u001b[1;32m     <a href='vscode-notebook-cell://ssh-remote%2Bdata%20engineering%20bootcamp/home/jalandet504/code/jalandet/lewagon-earthquake/earthquake-project/users/random_users_df_creation.ipynb#X15sdnNjb2RlLXJlbW90ZQ%3D%3D?line=12'>13</a>\u001b[0m         \u001b[39mreturn\u001b[39;00m random_point\u001b[39m.\u001b[39my, random_point\u001b[39m.\u001b[39mx\n",
      "File \u001b[0;32mmtrand.pyx:1131\u001b[0m, in \u001b[0;36mnumpy.random.mtrand.RandomState.uniform\u001b[0;34m()\u001b[0m\n",
      "\u001b[0;31mValueError\u001b[0m: could not convert string to float: 'minx'"
     ]
    }
   ],
   "source": [
    "generate_random_point_in_polygon(random_country_geometry)\n"
   ]
  },
  {
   "cell_type": "code",
   "execution_count": null,
   "metadata": {},
   "outputs": [],
   "source": []
  },
  {
   "cell_type": "code",
   "execution_count": null,
   "metadata": {},
   "outputs": [],
   "source": [
    "pd.DataFrame(df_users[\"user_location\"].tolist(), index=df_users.index)\n",
    "df_users[['latitude', 'longitude']] = pd.DataFrame(df_users[\"user_location\"].tolist(), index=df_users.index)\n",
    "df_users\n"
   ]
  },
  {
   "cell_type": "code",
   "execution_count": null,
   "metadata": {},
   "outputs": [],
   "source": [
    "df_users.to_csv(f\"/home/jalandet504/code/jalandet/lewagon-earthquake/earthquake-project/users/{total_users}_random_users.csv\", sep=\";\")\n"
   ]
  },
  {
   "cell_type": "code",
   "execution_count": null,
   "metadata": {},
   "outputs": [],
   "source": []
  },
  {
   "cell_type": "code",
   "execution_count": 72,
   "metadata": {},
   "outputs": [
    {
     "data": {
      "image/svg+xml": [
       "<svg xmlns=\"http://www.w3.org/2000/svg\" xmlns:xlink=\"http://www.w3.org/1999/xlink\" width=\"100.0\" height=\"100.0\" viewBox=\"-70.07098710855988 12.409090887440044 0.20274576811993938 0.2316357421200621\" preserveAspectRatio=\"xMinYMin meet\"><g transform=\"matrix(1,0,0,-1,0,25.04981751700015)\"><path fill-rule=\"evenodd\" fill=\"#66cc99\" stroke=\"#555555\" stroke-width=\"0.004632714842401242\" opacity=\"0.6\" d=\"M -69.99693762899992,12.577582098000036 L -69.93639075399994,12.53172435100005 L -69.92467200399994,12.519232489000046 L -69.91576087099992,12.497015692000076 L -69.88019771999984,12.453558661000045 L -69.87682044199994,12.427394924000097 L -69.88809160099993,12.417669989000046 L -69.90880286399994,12.417792059000107 L -69.93053137899989,12.425970770000035 L -69.94513912699992,12.44037506700009 L -69.92467200399994,12.44037506700009 L -69.92467200399994,12.447211005000014 L -69.95856686099992,12.463202216000099 L -70.02765865799992,12.522935289000088 L -70.04808508999989,12.53115469000008 L -70.05809485599988,12.537176825000088 L -70.06240800699987,12.546820380000057 L -70.06037350199995,12.556952216000113 L -70.0510961579999,12.574042059000064 L -70.04873613199993,12.583726304000024 L -70.05264238199993,12.600002346000053 L -70.05964107999992,12.614243882000054 L -70.06110592399997,12.625392971000068 L -70.04873613199993,12.632147528000104 L -70.00715084499987,12.5855166690001 L -69.99693762899992,12.577582098000036 z\" /></g></svg>"
      ],
      "text/plain": [
       "<POLYGON ((-69.997 12.578, -69.936 12.532, -69.925 12.519, -69.916 12.497, -...>"
      ]
     },
     "execution_count": 72,
     "metadata": {},
     "output_type": "execute_result"
    }
   ],
   "source": [
    "countries[\"geometry\"][0]\n"
   ]
  },
  {
   "cell_type": "code",
   "execution_count": 76,
   "metadata": {},
   "outputs": [
    {
     "data": {
      "image/svg+xml": [
       "<svg xmlns=\"http://www.w3.org/2000/svg\" xmlns:xlink=\"http://www.w3.org/1999/xlink\" width=\"100.0\" height=\"100.0\" viewBox=\"-69.18902259043992 12.024046942560041 0.4665673828800436 0.3847395828800586\" preserveAspectRatio=\"xMinYMin meet\"><g transform=\"matrix(1,0,0,-1,0,24.43283346800014)\"><path fill-rule=\"evenodd\" fill=\"#66cc99\" stroke=\"#555555\" stroke-width=\"0.009331347657600873\" opacity=\"0.6\" d=\"M -68.78075110599988,12.097805080000072 L -68.74522864499991,12.06224192900001 L -68.73973548099988,12.053045966000127 L -68.74864661399991,12.047023830000029 L -68.76984615799992,12.04291413000007 L -68.79474850199995,12.041327216000042 L -68.81480872299991,12.04315827000002 L -68.84117591099991,12.055487372000059 L -68.89342200399992,12.090521552000055 L -68.94473222599993,12.105617580000057 L -68.97777258999989,12.124579169000071 L -69.00743567599991,12.148179429000024 L -69.02025305899986,12.16974518400012 L -69.02721106699994,12.190090236000103 L -69.04360917899996,12.196682033000087 L -69.0628962879999,12.198431708000086 L -69.07860266799995,12.204250393000038 L -69.09190833199997,12.219875393000024 L -69.12267005099994,12.26902903900013 L -69.13438880099994,12.27732982000012 L -69.14810136599996,12.284409898000078 L -69.15953528599994,12.29336172100011 L -69.16429602799991,12.30695221600007 L -69.16197669199997,12.342840887000065 L -69.16380774599995,12.361883856000063 L -69.17174231699991,12.37889232000012 L -69.16612708199989,12.387844143000052 L -69.16120357999995,12.391506252000099 L -69.15623938699989,12.390611070000105 L -69.15062415299988,12.38572825700004 L -69.10777747299991,12.367824611000074 L -69.08958899599992,12.356878973000022 L -69.07152258999989,12.3413760440001 L -69.06041419199997,12.322577216000056 L -69.04995683499988,12.276109117000104 L -69.04076087099992,12.256048895000049 L -69.00401770699992,12.221665757000011 L -68.96129309799991,12.201361395000106 L -68.83527584499987,12.171047268000024 L -68.82079016799992,12.16233958500004 L -68.81480872299991,12.149603583000086 L -68.8118383449999,12.129339911000073 L -68.8040258449999,12.11701080900012 L -68.78075110599988,12.097805080000072 z\" /></g></svg>"
      ],
      "text/plain": [
       "<POLYGON ((-68.781 12.098, -68.745 12.062, -68.74 12.053, -68.749 12.047, -6...>"
      ]
     },
     "execution_count": 76,
     "metadata": {},
     "output_type": "execute_result"
    }
   ],
   "source": [
    "random.choice(countries[\"geometry\"])\n"
   ]
  },
  {
   "cell_type": "code",
   "execution_count": 73,
   "metadata": {},
   "outputs": [
    {
     "name": "stdout",
     "output_type": "stream",
     "text": [
      "POLYGON ((-69.99693762899992 12.577582098000036, -69.93639075399994 12.53172435100005, -69.92467200399994 12.519232489000046, -69.91576087099992 12.497015692000076, -69.88019771999984 12.453558661000045, -69.87682044199994 12.427394924000097, -69.88809160099993 12.417669989000046, -69.90880286399994 12.417792059000107, -69.93053137899989 12.425970770000035, -69.94513912699992 12.44037506700009, -69.92467200399994 12.44037506700009, -69.92467200399994 12.447211005000014, -69.95856686099992 12.463202216000099, -70.02765865799992 12.522935289000088, -70.04808508999989 12.53115469000008, -70.05809485599988 12.537176825000088, -70.06240800699987 12.546820380000057, -70.06037350199995 12.556952216000113, -70.0510961579999 12.574042059000064, -70.04873613199993 12.583726304000024, -70.05264238199993 12.600002346000053, -70.05964107999992 12.614243882000054, -70.06110592399997 12.625392971000068, -70.04873613199993 12.632147528000104, -70.00715084499987 12.5855166690001, -69.99693762899992 12.577582098000036))\n"
     ]
    }
   ],
   "source": [
    "print(countries[\"geometry\"][0])\n"
   ]
  },
  {
   "cell_type": "code",
   "execution_count": 74,
   "metadata": {},
   "outputs": [
    {
     "data": {
      "text/plain": [
       "(12.424707832388693, -69.89698895620903)"
      ]
     },
     "execution_count": 74,
     "metadata": {},
     "output_type": "execute_result"
    }
   ],
   "source": [
    "generate_random_point_in_polygon(countries[\"geometry\"][0])\n"
   ]
  }
 ],
 "metadata": {
  "kernelspec": {
   "display_name": "Python 3 (ipykernel)",
   "language": "python",
   "name": "python3"
  },
  "language_info": {
   "codemirror_mode": {
    "name": "ipython",
    "version": 3
   },
   "file_extension": ".py",
   "mimetype": "text/x-python",
   "name": "python",
   "nbconvert_exporter": "python",
   "pygments_lexer": "ipython3",
   "version": "3.8.14"
  }
 },
 "nbformat": 4,
 "nbformat_minor": 4
}
