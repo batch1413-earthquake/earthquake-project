{
 "cells": [
  {
   "cell_type": "code",
   "execution_count": null,
   "metadata": {},
   "outputs": [],
   "source": [
    "import requests\n",
    "import pandas as pd\n",
    "from datetime import datetime\n",
    "from dateutil.relativedelta import relativedelta\n",
    "import json\n"
   ]
  },
  {
   "cell_type": "markdown",
   "metadata": {},
   "source": [
    "# Call Earthquake API"
   ]
  },
  {
   "cell_type": "code",
   "execution_count": null,
   "metadata": {},
   "outputs": [],
   "source": [
    "date = \"2023-10-01\"\n",
    "url = \"https://earthquake.usgs.gov/fdsnws/event/1/query?\"\n",
    "\n",
    "date = datetime.strptime(date, \"%Y-%m-%d\")\n",
    "yesterday = date - relativedelta(days=1)\n",
    "\n",
    "query_params = {\n",
    "    'starttime': yesterday.replace(day=1),\n",
    "    'endtime': yesterday,\n",
    "    'format': 'geojson',\n",
    "}\n",
    "\n",
    "try:\n",
    "    response = requests.get(url, params=query_params)\n",
    "\n",
    "    if response.status_code == 200:\n",
    "        response_json = response.json()\n",
    "    else:\n",
    "        print(f\"Request failed with status code: {response.status_code}\")\n",
    "\n",
    "except requests.exceptions.RequestException as e:\n",
    "    print(f\"Request error: {e}\")\n"
   ]
  },
  {
   "cell_type": "markdown",
   "metadata": {},
   "source": [
    "# Write and Read data"
   ]
  },
  {
   "cell_type": "code",
   "execution_count": null,
   "metadata": {},
   "outputs": [],
   "source": [
    "with open(\"geojson_data.json\", \"w\", encoding=\"utf-8\") as f:\n",
    "    json.dump(response_json, f)\n"
   ]
  },
  {
   "cell_type": "code",
   "execution_count": null,
   "metadata": {},
   "outputs": [],
   "source": [
    "# response_json\n",
    "with open(\"geojson_data.json\", \"r\", encoding=\"utf-8\") as f:\n",
    "    geojson_json = json.load(f)\n",
    "\n",
    "geojson_json\n"
   ]
  },
  {
   "cell_type": "code",
   "execution_count": null,
   "metadata": {},
   "outputs": [],
   "source": [
    "df = pd.json_normalize(response_json[\"features\"])\n",
    "df.columns\n",
    "df.head()\n"
   ]
  },
  {
   "cell_type": "code",
   "execution_count": null,
   "metadata": {},
   "outputs": [],
   "source": [
    "with open(\"geojson_data.json\", \"r\") as f:\n",
    "    df = pd.json_normalize(json.load(f)[\"features\"])\n",
    "renaming = {'properties.mag': 'properties_magnitude',\n",
    "'properties.place':  'properties_place',\n",
    "'properties.time':  'properties_time',\n",
    "'properties.updated':  'properties_updated',\n",
    "'properties.felt':  'properties_felt_count',\n",
    "'properties.alert':  'properties_alert',\n",
    "'properties.status':  'properties_status',\n",
    "'properties.tsunami':  'properties_tsunami',\n",
    "'properties.sig':  'properties_significance',\n",
    "'properties.nst':  'properties_seismic_station_count',\n",
    "'properties.type':  'properties_type',\n",
    "'properties.title':  'properties_title'}\n",
    "df.rename(columns=renaming, inplace=True)\n",
    "df.columns\n",
    "def split_coordinates(row: pd.Series):\n",
    "    coordinates = row['geometry.coordinates']\n",
    "    row['longitude'] = coordinates[0]\n",
    "    row['latitude'] = coordinates[1]\n",
    "    row['elevation'] = coordinates[2]\n",
    "    return row\n",
    "\n",
    "df = df.apply(split_coordinates, axis='columns')\n"
   ]
  },
  {
   "cell_type": "code",
   "execution_count": null,
   "metadata": {},
   "outputs": [],
   "source": [
    "\".\".join(\"data/toto.geojson_data.json\".split(\".\")[:-1]) + \".parquet\"\n"
   ]
  },
  {
   "cell_type": "code",
   "execution_count": 8,
   "metadata": {},
   "outputs": [
    {
     "name": "stdout",
     "output_type": "stream",
     "text": [
      "<class 'pandas.core.frame.DataFrame'>\n",
      "RangeIndex: 10855 entries, 0 to 10854\n",
      "Data columns (total 33 columns):\n",
      " #   Column                            Non-Null Count  Dtype  \n",
      "---  ------                            --------------  -----  \n",
      " 0   type                              10855 non-null  object \n",
      " 1   id                                10855 non-null  object \n",
      " 2   properties_magnitude              10854 non-null  float64\n",
      " 3   properties_place                  10392 non-null  object \n",
      " 4   properties_time                   10855 non-null  int64  \n",
      " 5   properties_updated                10855 non-null  int64  \n",
      " 6   properties.tz                     0 non-null      object \n",
      " 7   properties.url                    10855 non-null  object \n",
      " 8   properties.detail                 10855 non-null  object \n",
      " 9   properties_felt_count             498 non-null    float64\n",
      " 10  properties.cdi                    498 non-null    float64\n",
      " 11  properties.mmi                    100 non-null    float64\n",
      " 12  properties_alert                  51 non-null     object \n",
      " 13  properties_status                 10855 non-null  object \n",
      " 14  properties_tsunami                10855 non-null  int64  \n",
      " 15  properties_significance           10855 non-null  int64  \n",
      " 16  properties.net                    10855 non-null  object \n",
      " 17  properties.code                   10855 non-null  object \n",
      " 18  properties.ids                    10855 non-null  object \n",
      " 19  properties.sources                10855 non-null  object \n",
      " 20  properties.types                  10855 non-null  object \n",
      " 21  properties_seismic_station_count  7653 non-null   float64\n",
      " 22  properties.dmin                   6284 non-null   float64\n",
      " 23  properties.rms                    10855 non-null  float64\n",
      " 24  properties.gap                    7653 non-null   float64\n",
      " 25  properties.magType                10854 non-null  object \n",
      " 26  properties_type                   10855 non-null  object \n",
      " 27  properties_title                  10855 non-null  object \n",
      " 28  geometry.type                     10855 non-null  object \n",
      " 29  geometry.coordinates              10855 non-null  object \n",
      " 30  longitude                         10855 non-null  float64\n",
      " 31  latitude                          10855 non-null  float64\n",
      " 32  elevation                         10855 non-null  float64\n",
      "dtypes: float64(11), int64(4), object(18)\n",
      "memory usage: 2.7+ MB\n",
      "<class 'pandas.core.frame.DataFrame'>\n",
      "RangeIndex: 10855 entries, 0 to 10854\n",
      "Data columns (total 17 columns):\n",
      " #   Column                            Non-Null Count  Dtype  \n",
      "---  ------                            --------------  -----  \n",
      " 0   type                              10855 non-null  object \n",
      " 1   id                                10855 non-null  object \n",
      " 2   properties_magnitude              10854 non-null  float64\n",
      " 3   properties_place                  10392 non-null  object \n",
      " 4   properties_time                   10855 non-null  int64  \n",
      " 5   properties_updated                10855 non-null  int64  \n",
      " 6   properties_felt_count             498 non-null    float64\n",
      " 7   properties_alert                  51 non-null     object \n",
      " 8   properties_status                 10855 non-null  object \n",
      " 9   properties_tsunami                10855 non-null  int64  \n",
      " 10  properties_significance           10855 non-null  int64  \n",
      " 11  properties_seismic_station_count  7653 non-null   float64\n",
      " 12  properties_type                   10855 non-null  object \n",
      " 13  properties_title                  10855 non-null  object \n",
      " 14  longitude                         10855 non-null  float64\n",
      " 15  latitude                          10855 non-null  float64\n",
      " 16  elevation                         10855 non-null  float64\n",
      "dtypes: float64(6), int64(4), object(7)\n",
      "memory usage: 1.4+ MB\n"
     ]
    }
   ],
   "source": [
    "import pandas as pd\n",
    "\n",
    "df = pd.read_parquet(\"usgs_data-geojson_data_2023-09-30.parquet\")\n",
    "df.head()\n",
    "df.info()\n",
    "\n",
    "df[['type', 'id', 'properties_magnitude', 'properties_place',\n",
    "            'properties_time', 'properties_updated',\n",
    "            'properties_felt_count', 'properties_alert',\n",
    "            'properties_status', 'properties_tsunami',\n",
    "            'properties_significance', 'properties_seismic_station_count',\n",
    "            'properties_type', 'properties_title', 'longitude', 'latitude', 'elevation']].info()\n"
   ]
  },
  {
   "cell_type": "code",
   "execution_count": null,
   "metadata": {},
   "outputs": [],
   "source": []
  }
 ],
 "metadata": {
  "kernelspec": {
   "display_name": ".venv",
   "language": "python",
   "name": "python3"
  },
  "language_info": {
   "codemirror_mode": {
    "name": "ipython",
    "version": 3
   },
   "file_extension": ".py",
   "mimetype": "text/x-python",
   "name": "python",
   "nbconvert_exporter": "python",
   "pygments_lexer": "ipython3",
   "version": "3.8.14"
  }
 },
 "nbformat": 4,
 "nbformat_minor": 2
}
