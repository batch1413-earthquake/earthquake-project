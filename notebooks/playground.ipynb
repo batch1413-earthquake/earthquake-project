{
 "cells": [
  {
   "cell_type": "code",
   "execution_count": 2,
   "metadata": {},
   "outputs": [],
   "source": [
    "import requests\n",
    "import pandas as pd\n",
    "from datetime import datetime\n",
    "from dateutil.relativedelta import relativedelta\n",
    "\n",
    "date = \"2023-10-01\"\n",
    "url = \"https://earthquake.usgs.gov/fdsnws/event/1/query?\"\n",
    "\n",
    "date = datetime.strptime(date, \"%Y-%m-%d\")\n",
    "yesterday = date - relativedelta(days=1)\n",
    "# Define the query parameters\n",
    "query_params = {\n",
    "    'starttime': yesterday.replace(day=1),\n",
    "    'endtime': yesterday,\n",
    "    'orderby': 'time',\n",
    "    'format': 'geojson',\n",
    "    'nodata': '404'\n",
    "}\n",
    "\n",
    "try:\n",
    "    # Send a GET request with the specified query parameters\n",
    "    response = requests.get(url, params=query_params)\n",
    "\n",
    "    # Check if the request was successful (status code 200)\n",
    "    if response.status_code == 200:\n",
    "        # Print the content of the response\n",
    "        # print(response.text)\n",
    "        response_json = response.json()\n",
    "    else:\n",
    "        print(f\"Request failed with status code: {response.status_code}\")\n",
    "\n",
    "except requests.exceptions.RequestException as e:\n",
    "    print(f\"Request error: {e}\")\n"
   ]
  },
  {
   "cell_type": "code",
   "execution_count": 3,
   "metadata": {},
   "outputs": [
    {
     "data": {
      "text/plain": [
       "Index(['type', 'id', 'properties.mag', 'properties.place', 'properties.time',\n",
       "       'properties.updated', 'properties.tz', 'properties.url',\n",
       "       'properties.detail', 'properties.felt', 'properties.cdi',\n",
       "       'properties.mmi', 'properties.alert', 'properties.status',\n",
       "       'properties.tsunami', 'properties.sig', 'properties.net',\n",
       "       'properties.code', 'properties.ids', 'properties.sources',\n",
       "       'properties.types', 'properties.nst', 'properties.dmin',\n",
       "       'properties.rms', 'properties.gap', 'properties.magType',\n",
       "       'properties.type', 'properties.title', 'geometry.type',\n",
       "       'geometry.coordinates'],\n",
       "      dtype='object')"
      ]
     },
     "execution_count": 3,
     "metadata": {},
     "output_type": "execute_result"
    }
   ],
   "source": [
    "df = pd.json_normalize(response_json[\"features\"])\n",
    "df.columns\n"
   ]
  },
  {
   "cell_type": "code",
   "execution_count": null,
   "metadata": {},
   "outputs": [],
   "source": []
  }
 ],
 "metadata": {
  "kernelspec": {
   "display_name": ".venv",
   "language": "python",
   "name": "python3"
  },
  "language_info": {
   "codemirror_mode": {
    "name": "ipython",
    "version": 3
   },
   "file_extension": ".py",
   "mimetype": "text/x-python",
   "name": "python",
   "nbconvert_exporter": "python",
   "pygments_lexer": "ipython3",
   "version": "3.8.14"
  }
 },
 "nbformat": 4,
 "nbformat_minor": 2
}
