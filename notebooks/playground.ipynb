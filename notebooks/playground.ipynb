{
 "cells": [
  {
   "cell_type": "code",
   "execution_count": null,
   "metadata": {},
   "outputs": [],
   "source": [
    "import requests\n",
    "import pandas as pd\n",
    "from datetime import datetime\n",
    "from dateutil.relativedelta import relativedelta\n",
    "import json\n"
   ]
  },
  {
   "cell_type": "markdown",
   "metadata": {},
   "source": [
    "# Call Earthquake API"
   ]
  },
  {
   "cell_type": "code",
   "execution_count": null,
   "metadata": {},
   "outputs": [],
   "source": [
    "date = \"2023-10-01\"\n",
    "url = \"https://earthquake.usgs.gov/fdsnws/event/1/query?\"\n",
    "\n",
    "date = datetime.strptime(date, \"%Y-%m-%d\")\n",
    "yesterday = date - relativedelta(days=1)\n",
    "\n",
    "query_params = {\n",
    "    'starttime': yesterday.replace(day=1),\n",
    "    'endtime': yesterday,\n",
    "    'format': 'geojson',\n",
    "}\n",
    "\n",
    "try:\n",
    "    response = requests.get(url, params=query_params)\n",
    "\n",
    "    if response.status_code == 200:\n",
    "        response_json = response.json()\n",
    "    else:\n",
    "        print(f\"Request failed with status code: {response.status_code}\")\n",
    "\n",
    "except requests.exceptions.RequestException as e:\n",
    "    print(f\"Request error: {e}\")\n"
   ]
  },
  {
   "cell_type": "markdown",
   "metadata": {},
   "source": [
    "# Write and Read data"
   ]
  },
  {
   "cell_type": "code",
   "execution_count": null,
   "metadata": {},
   "outputs": [],
   "source": [
    "with open(\"geojson_data.json\", \"w\", encoding=\"utf-8\") as f:\n",
    "    json.dump(response_json, f)\n"
   ]
  },
  {
   "cell_type": "code",
   "execution_count": null,
   "metadata": {},
   "outputs": [],
   "source": [
    "# response_json\n",
    "with open(\"geojson_data.json\", \"r\", encoding=\"utf-8\") as f:\n",
    "    geojson_json = json.load(f)\n",
    "\n",
    "geojson_json\n"
   ]
  },
  {
   "cell_type": "code",
   "execution_count": null,
   "metadata": {},
   "outputs": [],
   "source": [
    "df = pd.json_normalize(response_json[\"features\"])\n",
    "df.columns\n",
    "df.head()\n"
   ]
  },
  {
   "cell_type": "code",
   "execution_count": null,
   "metadata": {},
   "outputs": [],
   "source": [
    "with open(\"geojson_data.json\", \"r\") as f:\n",
    "    df = pd.json_normalize(json.load(f)[\"features\"])\n",
    "renaming = {'properties.mag': 'properties_magnitude',\n",
    "'properties.place':  'properties_place',\n",
    "'properties.time':  'properties_time',\n",
    "'properties.updated':  'properties_updated',\n",
    "'properties.felt':  'properties_felt_count',\n",
    "'properties.alert':  'properties_alert',\n",
    "'properties.status':  'properties_status',\n",
    "'properties.tsunami':  'properties_tsunami',\n",
    "'properties.sig':  'properties_significance',\n",
    "'properties.nst':  'properties_seismic_station_count',\n",
    "'properties.type':  'properties_type',\n",
    "'properties.title':  'properties_title'}\n",
    "df.rename(columns=renaming, inplace=True)\n",
    "df.columns\n",
    "def split_coordinates(row: pd.Series):\n",
    "    coordinates = row['geometry.coordinates']\n",
    "    row['longitude'] = coordinates[0]\n",
    "    row['latitude'] = coordinates[1]\n",
    "    row['elevation'] = coordinates[2]\n",
    "    return row\n",
    "\n",
    "df = df.apply(split_coordinates, axis='columns')\n"
   ]
  },
  {
   "cell_type": "code",
   "execution_count": null,
   "metadata": {},
   "outputs": [],
   "source": [
    "\".\".join(\"data/toto.geojson_data.json\".split(\".\")[:-1]) + \".parquet\"\n"
   ]
  },
  {
   "cell_type": "code",
   "execution_count": null,
   "metadata": {},
   "outputs": [],
   "source": []
  }
 ],
 "metadata": {
  "kernelspec": {
   "display_name": ".venv",
   "language": "python",
   "name": "python3"
  },
  "language_info": {
   "codemirror_mode": {
    "name": "ipython",
    "version": 3
   },
   "file_extension": ".py",
   "mimetype": "text/x-python",
   "name": "python",
   "nbconvert_exporter": "python",
   "pygments_lexer": "ipython3",
   "version": "3.8.14"
  }
 },
 "nbformat": 4,
 "nbformat_minor": 2
}
